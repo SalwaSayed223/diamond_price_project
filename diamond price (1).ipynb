{
 "cells": [
  {
   "cell_type": "code",
   "execution_count": 1,
   "id": "b7122948",
   "metadata": {},
   "outputs": [],
   "source": [
    "import pandas as pd\n",
    "import numpy as np\n",
    "import matplotlib.pyplot as plt\n",
    "import seaborn as sns\n",
    "%matplotlib inline"
   ]
  },
  {
   "cell_type": "code",
   "execution_count": 2,
   "id": "238d23f8",
   "metadata": {},
   "outputs": [],
   "source": [
    "train_set=pd.read_csv('train_set.csv')\n",
    "test_set=pd.read_csv('test_set.csv')"
   ]
  },
  {
   "cell_type": "code",
   "execution_count": 3,
   "id": "504ad638",
   "metadata": {
    "scrolled": true
   },
   "outputs": [
    {
     "data": {
      "text/plain": [
       "Id         0\n",
       "carat      0\n",
       "cut        0\n",
       "color      0\n",
       "clarity    0\n",
       "depth      0\n",
       "table      0\n",
       "price      0\n",
       "x          0\n",
       "y          0\n",
       "z          0\n",
       "dtype: int64"
      ]
     },
     "execution_count": 3,
     "metadata": {},
     "output_type": "execute_result"
    }
   ],
   "source": [
    "train_set.isna().sum()"
   ]
  },
  {
   "cell_type": "code",
   "execution_count": 4,
   "id": "c9d2f51f",
   "metadata": {},
   "outputs": [],
   "source": [
    "diamond= train_set.drop(\"price\", axis=1)\n",
    "diamond_labels = train_set[\"price\"].copy()"
   ]
  },
  {
   "cell_type": "code",
   "execution_count": 5,
   "id": "8bac14db",
   "metadata": {},
   "outputs": [],
   "source": [
    "from sklearn.preprocessing import OrdinalEncoder\n",
    "\n",
    "\n",
    "from sklearn.preprocessing import StandardScaler"
   ]
  },
  {
   "cell_type": "code",
   "execution_count": 6,
   "id": "f275055c",
   "metadata": {},
   "outputs": [],
   "source": [
    "from sklearn.compose import ColumnTransformer\n",
    "cat_col =list(diamond[['cut','color','clarity']])\n",
    "num_col =list(diamond[['table','carat','depth','x','y','z']])\n"
   ]
  },
  {
   "cell_type": "code",
   "execution_count": 7,
   "id": "7c400a92",
   "metadata": {},
   "outputs": [],
   "source": [
    "from sklearn.pipeline import Pipeline\n"
   ]
  },
  {
   "cell_type": "code",
   "execution_count": 8,
   "id": "3a84f8a3",
   "metadata": {},
   "outputs": [],
   "source": [
    "num_pipeline=Pipeline([(\"standardize\", StandardScaler()),])\n",
    "cat_pipeline=Pipeline([('Ordinally',OrdinalEncoder()),])"
   ]
  },
  {
   "cell_type": "code",
   "execution_count": 9,
   "id": "31f17b82",
   "metadata": {},
   "outputs": [],
   "source": [
    "full_pipeline=ColumnTransformer([\n",
    " (\"num\", num_pipeline, num_col),\n",
    " (\"cat\", cat_pipeline, cat_col),])"
   ]
  },
  {
   "cell_type": "code",
   "execution_count": 10,
   "id": "c0fffd01",
   "metadata": {},
   "outputs": [],
   "source": [
    "diamond=full_pipeline.fit_transform(diamond)"
   ]
  },
  {
   "cell_type": "code",
   "execution_count": 11,
   "id": "e57df15d",
   "metadata": {},
   "outputs": [
    {
     "data": {
      "text/plain": [
       "LinearRegression()"
      ]
     },
     "execution_count": 11,
     "metadata": {},
     "output_type": "execute_result"
    }
   ],
   "source": [
    "from sklearn.linear_model import LinearRegression\n",
    "\n",
    "lin_reg = LinearRegression()\n",
    "lin_reg.fit(diamond,diamond_labels)"
   ]
  },
  {
   "cell_type": "code",
   "execution_count": 12,
   "id": "7e3e8c2d",
   "metadata": {},
   "outputs": [
    {
     "name": "stdout",
     "output_type": "stream",
     "text": [
      "1345.287570044896\n"
     ]
    }
   ],
   "source": [
    "from sklearn.metrics import mean_squared_error\n",
    "\n",
    "diamond_predictions = lin_reg.predict(diamond)\n",
    "lin_mse = mean_squared_error(diamond_labels, diamond_predictions)\n",
    "lin_rmse = np.sqrt(lin_mse)\n",
    "print(lin_rmse)"
   ]
  },
  {
   "cell_type": "code",
   "execution_count": 13,
   "id": "4a620cd1",
   "metadata": {},
   "outputs": [
    {
     "data": {
      "text/plain": [
       "DecisionTreeRegressor(random_state=42)"
      ]
     },
     "execution_count": 13,
     "metadata": {},
     "output_type": "execute_result"
    }
   ],
   "source": [
    "from sklearn.tree import DecisionTreeRegressor\n",
    "\n",
    "tree_reg = DecisionTreeRegressor(random_state = 42)\n",
    "tree_reg.fit(diamond,diamond_labels)"
   ]
  },
  {
   "cell_type": "code",
   "execution_count": 14,
   "id": "e349355d",
   "metadata": {},
   "outputs": [
    {
     "data": {
      "text/plain": [
       "8.613423979024963"
      ]
     },
     "execution_count": 14,
     "metadata": {},
     "output_type": "execute_result"
    }
   ],
   "source": [
    "diamond_predictions = tree_reg.predict(diamond)\n",
    "tree_mse = mean_squared_error(diamond_labels,diamond_predictions)\n",
    "tree_rmse = np.sqrt(tree_mse)\n",
    "tree_rmse"
   ]
  },
  {
   "cell_type": "code",
   "execution_count": 15,
   "id": "b7c266ca",
   "metadata": {},
   "outputs": [],
   "source": [
    "from sklearn.model_selection import cross_val_score\n",
    "\n",
    "scores = cross_val_score(tree_reg, diamond, diamond_labels, scoring =\"neg_mean_squared_error\",cv = 10)\n",
    "tree_rmse_scores = np.sqrt(-scores)"
   ]
  },
  {
   "cell_type": "code",
   "execution_count": 16,
   "id": "07df27f1",
   "metadata": {},
   "outputs": [
    {
     "name": "stdout",
     "output_type": "stream",
     "text": [
      "Scores:  [767.54666895 754.68510368 742.70414464 762.28119038 766.30711042\n",
      " 758.0903989  733.1326257  731.11509216 716.50216499 799.80211537]\n",
      "Mean:  753.2166615192614\n",
      "Standard Deviation:  22.372536573913717\n"
     ]
    }
   ],
   "source": [
    "print(\"Scores: \", tree_rmse_scores)\n",
    "print(\"Mean: \", tree_rmse_scores.mean())\n",
    "print(\"Standard Deviation: \", tree_rmse_scores.std())"
   ]
  },
  {
   "cell_type": "code",
   "execution_count": 17,
   "id": "36c1190a",
   "metadata": {},
   "outputs": [],
   "source": [
    "scores = cross_val_score(lin_reg, diamond, diamond_labels, scoring =\"neg_mean_squared_error\",cv = 10)\n",
    "lin_rmse_scores = np.sqrt(-scores)"
   ]
  },
  {
   "cell_type": "code",
   "execution_count": 18,
   "id": "9f8a658d",
   "metadata": {},
   "outputs": [
    {
     "name": "stdout",
     "output_type": "stream",
     "text": [
      "Scores:  [1331.50344025 1338.97749839 1374.8139444  1300.05128573 1378.51403463\n",
      " 1331.29673722 1399.63831318 1313.68770208 1351.5557633  1354.82560624]\n",
      "Mean:  1347.4864325401645\n",
      "Standard Deviation:  29.124144870859627\n"
     ]
    }
   ],
   "source": [
    "print(\"Scores: \", lin_rmse_scores)\n",
    "print(\"Mean: \", lin_rmse_scores.mean())\n",
    "print(\"Standard Deviation: \", lin_rmse_scores.std())"
   ]
  },
  {
   "cell_type": "code",
   "execution_count": 19,
   "id": "69c5faed",
   "metadata": {},
   "outputs": [],
   "source": [
    "from sklearn.ensemble import RandomForestRegressor\n",
    "forest_reg = RandomForestRegressor()\n",
    "forest_scores = cross_val_score(forest_reg,diamond, diamond_labels,scoring = \"neg_mean_squared_error\", cv = 10)\n",
    "forest_rmse_scores = np.sqrt(-forest_scores)"
   ]
  },
  {
   "cell_type": "code",
   "execution_count": 20,
   "id": "c1498274",
   "metadata": {},
   "outputs": [
    {
     "name": "stdout",
     "output_type": "stream",
     "text": [
      "Scores:  [571.37041187 544.36800889 568.80157762 530.72955671 571.31531491\n",
      " 572.50655343 548.9909854  547.28175163 520.90684232 567.53932827]\n",
      "Mean:  554.3810331061188\n",
      "Standard Deviation:  17.73319786238745\n"
     ]
    }
   ],
   "source": [
    "print(\"Scores: \", forest_rmse_scores)\n",
    "print(\"Mean: \", forest_rmse_scores.mean())\n",
    "print(\"Standard Deviation: \", forest_rmse_scores.std())"
   ]
  },
  {
   "cell_type": "code",
   "execution_count": 21,
   "id": "d4075771",
   "metadata": {},
   "outputs": [
    {
     "data": {
      "text/plain": [
       "GridSearchCV(cv=5, estimator=RandomForestRegressor(random_state=42),\n",
       "             param_grid=[{'max_features': [2, 4, 6, 8],\n",
       "                          'n_estimators': [3, 10, 30]},\n",
       "                         {'bootstrap': [False], 'max_features': [2, 3, 4],\n",
       "                          'n_estimators': [3, 10]}],\n",
       "             return_train_score=True, scoring='neg_mean_squared_error')"
      ]
     },
     "execution_count": 21,
     "metadata": {},
     "output_type": "execute_result"
    }
   ],
   "source": [
    "from sklearn.model_selection import GridSearchCV\n",
    "\n",
    "param_grid =[\n",
    "              {'n_estimators': [3,10,30], 'max_features':[2,4,6,8]},\n",
    "              {'bootstrap':[False], 'max_features':[2,3,4],'n_estimators':[3,10]}\n",
    "]\n",
    "forest_reg = RandomForestRegressor(random_state = 42)\n",
    "\n",
    "grid_search = GridSearchCV(forest_reg,param_grid,cv = 5, scoring = 'neg_mean_squared_error',return_train_score = True)\n",
    "grid_search.fit(diamond, diamond_labels)"
   ]
  },
  {
   "cell_type": "code",
   "execution_count": 22,
   "id": "ce696245",
   "metadata": {},
   "outputs": [
    {
     "data": {
      "text/plain": [
       "{'max_features': 6, 'n_estimators': 30}"
      ]
     },
     "execution_count": 22,
     "metadata": {},
     "output_type": "execute_result"
    }
   ],
   "source": [
    "grid_search.best_params_"
   ]
  },
  {
   "cell_type": "code",
   "execution_count": 23,
   "id": "29955db8",
   "metadata": {},
   "outputs": [
    {
     "data": {
      "text/plain": [
       "RandomForestRegressor(max_features=6, n_estimators=30, random_state=42)"
      ]
     },
     "execution_count": 23,
     "metadata": {},
     "output_type": "execute_result"
    }
   ],
   "source": [
    "grid_search.best_estimator_"
   ]
  },
  {
   "cell_type": "code",
   "execution_count": 24,
   "id": "5bb9b557",
   "metadata": {},
   "outputs": [
    {
     "name": "stdout",
     "output_type": "stream",
     "text": [
      "830.4861857690995 {'max_features': 2, 'n_estimators': 3}\n",
      "712.5106275085241 {'max_features': 2, 'n_estimators': 10}\n",
      "671.4995998324283 {'max_features': 2, 'n_estimators': 30}\n",
      "698.9760454845787 {'max_features': 4, 'n_estimators': 3}\n",
      "614.8209844947058 {'max_features': 4, 'n_estimators': 10}\n",
      "593.389021593397 {'max_features': 4, 'n_estimators': 30}\n",
      "658.1156995208488 {'max_features': 6, 'n_estimators': 3}\n",
      "588.5853980646136 {'max_features': 6, 'n_estimators': 10}\n",
      "570.6115276008732 {'max_features': 6, 'n_estimators': 30}\n",
      "653.109073758558 {'max_features': 8, 'n_estimators': 3}\n",
      "591.8720522819708 {'max_features': 8, 'n_estimators': 10}\n",
      "572.810032867276 {'max_features': 8, 'n_estimators': 30}\n",
      "791.7789206700502 {'bootstrap': False, 'max_features': 2, 'n_estimators': 3}\n",
      "691.1083601410246 {'bootstrap': False, 'max_features': 2, 'n_estimators': 10}\n",
      "715.4098898223756 {'bootstrap': False, 'max_features': 3, 'n_estimators': 3}\n",
      "626.4257802991623 {'bootstrap': False, 'max_features': 3, 'n_estimators': 10}\n",
      "671.1666330284478 {'bootstrap': False, 'max_features': 4, 'n_estimators': 3}\n",
      "606.9521623553994 {'bootstrap': False, 'max_features': 4, 'n_estimators': 10}\n"
     ]
    }
   ],
   "source": [
    "cvres = grid_search.cv_results_\n",
    "\n",
    "for mean_score, params in zip(cvres[\"mean_test_score\"],cvres[\"params\"]):\n",
    "  print(np.sqrt(-mean_score), params)"
   ]
  },
  {
   "cell_type": "code",
   "execution_count": 25,
   "id": "e37fd295",
   "metadata": {},
   "outputs": [],
   "source": [
    "tcat_col =list(test_set[['cut','color','clarity']])\n",
    "tnum_col =list(test_set[['table','carat','depth','x','y','z']])\n"
   ]
  },
  {
   "cell_type": "code",
   "execution_count": 26,
   "id": "eba74c8e",
   "metadata": {},
   "outputs": [],
   "source": [
    "tnum_pipeline=Pipeline([(\"standardize\", StandardScaler()),])\n",
    "tcat_pipeline=Pipeline([('Ordinally',OrdinalEncoder()),])"
   ]
  },
  {
   "cell_type": "code",
   "execution_count": 27,
   "id": "7377aaf3",
   "metadata": {},
   "outputs": [],
   "source": [
    "tfull_pipeline=ColumnTransformer([\n",
    " (\"num\", num_pipeline, num_col),\n",
    " (\"cat\", cat_pipeline, cat_col),])"
   ]
  },
  {
   "cell_type": "code",
   "execution_count": 28,
   "id": "3a5e34fa",
   "metadata": {},
   "outputs": [],
   "source": [
    "test_set=tfull_pipeline.fit_transform(test_set)"
   ]
  },
  {
   "cell_type": "code",
   "execution_count": 29,
   "id": "9b3502d0",
   "metadata": {},
   "outputs": [],
   "source": [
    "forest_reg.fit(diamond,diamond_labels)\n",
    "predications=forest_reg.predict(test_set)"
   ]
  },
  {
   "cell_type": "code",
   "execution_count": 30,
   "id": "0bcd6a95",
   "metadata": {},
   "outputs": [],
   "source": [
    "test_set=pd.DataFrame(test_set)"
   ]
  },
  {
   "cell_type": "code",
   "execution_count": 36,
   "id": "488394f0",
   "metadata": {},
   "outputs": [
    {
     "data": {
      "text/html": [
       "<div>\n",
       "<style scoped>\n",
       "    .dataframe tbody tr th:only-of-type {\n",
       "        vertical-align: middle;\n",
       "    }\n",
       "\n",
       "    .dataframe tbody tr th {\n",
       "        vertical-align: top;\n",
       "    }\n",
       "\n",
       "    .dataframe thead th {\n",
       "        text-align: right;\n",
       "    }\n",
       "</style>\n",
       "<table border=\"1\" class=\"dataframe\">\n",
       "  <thead>\n",
       "    <tr style=\"text-align: right;\">\n",
       "      <th></th>\n",
       "      <th>Id</th>\n",
       "      <th>carat</th>\n",
       "      <th>cut</th>\n",
       "      <th>color</th>\n",
       "      <th>clarity</th>\n",
       "      <th>depth</th>\n",
       "      <th>table</th>\n",
       "      <th>x</th>\n",
       "      <th>y</th>\n",
       "      <th>z</th>\n",
       "    </tr>\n",
       "  </thead>\n",
       "  <tbody>\n",
       "    <tr>\n",
       "      <th>0</th>\n",
       "      <td>1</td>\n",
       "      <td>0.34</td>\n",
       "      <td>Ideal</td>\n",
       "      <td>G</td>\n",
       "      <td>VVS2</td>\n",
       "      <td>61.1</td>\n",
       "      <td>57.0</td>\n",
       "      <td>4.52</td>\n",
       "      <td>4.48</td>\n",
       "      <td>2.75</td>\n",
       "    </tr>\n",
       "    <tr>\n",
       "      <th>1</th>\n",
       "      <td>2</td>\n",
       "      <td>0.71</td>\n",
       "      <td>Premium</td>\n",
       "      <td>E</td>\n",
       "      <td>VS2</td>\n",
       "      <td>62.7</td>\n",
       "      <td>58.0</td>\n",
       "      <td>5.74</td>\n",
       "      <td>5.68</td>\n",
       "      <td>3.58</td>\n",
       "    </tr>\n",
       "    <tr>\n",
       "      <th>2</th>\n",
       "      <td>3</td>\n",
       "      <td>0.44</td>\n",
       "      <td>Very Good</td>\n",
       "      <td>I</td>\n",
       "      <td>VS1</td>\n",
       "      <td>62.8</td>\n",
       "      <td>56.0</td>\n",
       "      <td>4.83</td>\n",
       "      <td>4.88</td>\n",
       "      <td>3.05</td>\n",
       "    </tr>\n",
       "    <tr>\n",
       "      <th>3</th>\n",
       "      <td>4</td>\n",
       "      <td>0.81</td>\n",
       "      <td>Premium</td>\n",
       "      <td>E</td>\n",
       "      <td>SI2</td>\n",
       "      <td>60.1</td>\n",
       "      <td>59.0</td>\n",
       "      <td>6.09</td>\n",
       "      <td>6.03</td>\n",
       "      <td>3.65</td>\n",
       "    </tr>\n",
       "    <tr>\n",
       "      <th>4</th>\n",
       "      <td>5</td>\n",
       "      <td>0.40</td>\n",
       "      <td>Ideal</td>\n",
       "      <td>G</td>\n",
       "      <td>VVS1</td>\n",
       "      <td>61.2</td>\n",
       "      <td>56.0</td>\n",
       "      <td>4.74</td>\n",
       "      <td>4.80</td>\n",
       "      <td>2.92</td>\n",
       "    </tr>\n",
       "    <tr>\n",
       "      <th>...</th>\n",
       "      <td>...</td>\n",
       "      <td>...</td>\n",
       "      <td>...</td>\n",
       "      <td>...</td>\n",
       "      <td>...</td>\n",
       "      <td>...</td>\n",
       "      <td>...</td>\n",
       "      <td>...</td>\n",
       "      <td>...</td>\n",
       "      <td>...</td>\n",
       "    </tr>\n",
       "    <tr>\n",
       "      <th>10783</th>\n",
       "      <td>10784</td>\n",
       "      <td>0.57</td>\n",
       "      <td>Ideal</td>\n",
       "      <td>H</td>\n",
       "      <td>VS1</td>\n",
       "      <td>60.9</td>\n",
       "      <td>56.0</td>\n",
       "      <td>5.34</td>\n",
       "      <td>5.36</td>\n",
       "      <td>3.26</td>\n",
       "    </tr>\n",
       "    <tr>\n",
       "      <th>10784</th>\n",
       "      <td>10785</td>\n",
       "      <td>1.05</td>\n",
       "      <td>Ideal</td>\n",
       "      <td>G</td>\n",
       "      <td>VS2</td>\n",
       "      <td>60.8</td>\n",
       "      <td>57.0</td>\n",
       "      <td>6.65</td>\n",
       "      <td>6.58</td>\n",
       "      <td>4.02</td>\n",
       "    </tr>\n",
       "    <tr>\n",
       "      <th>10785</th>\n",
       "      <td>10786</td>\n",
       "      <td>0.71</td>\n",
       "      <td>Ideal</td>\n",
       "      <td>E</td>\n",
       "      <td>VVS1</td>\n",
       "      <td>62.3</td>\n",
       "      <td>55.0</td>\n",
       "      <td>5.68</td>\n",
       "      <td>5.72</td>\n",
       "      <td>3.55</td>\n",
       "    </tr>\n",
       "    <tr>\n",
       "      <th>10786</th>\n",
       "      <td>10787</td>\n",
       "      <td>1.11</td>\n",
       "      <td>Premium</td>\n",
       "      <td>E</td>\n",
       "      <td>SI2</td>\n",
       "      <td>61.0</td>\n",
       "      <td>60.0</td>\n",
       "      <td>6.68</td>\n",
       "      <td>6.66</td>\n",
       "      <td>4.07</td>\n",
       "    </tr>\n",
       "    <tr>\n",
       "      <th>10787</th>\n",
       "      <td>10788</td>\n",
       "      <td>2.00</td>\n",
       "      <td>Premium</td>\n",
       "      <td>F</td>\n",
       "      <td>SI2</td>\n",
       "      <td>61.5</td>\n",
       "      <td>59.0</td>\n",
       "      <td>8.03</td>\n",
       "      <td>7.95</td>\n",
       "      <td>4.92</td>\n",
       "    </tr>\n",
       "  </tbody>\n",
       "</table>\n",
       "<p>10788 rows × 10 columns</p>\n",
       "</div>"
      ],
      "text/plain": [
       "          Id  carat        cut color clarity  depth  table     x     y     z\n",
       "0          1   0.34      Ideal     G    VVS2   61.1   57.0  4.52  4.48  2.75\n",
       "1          2   0.71    Premium     E     VS2   62.7   58.0  5.74  5.68  3.58\n",
       "2          3   0.44  Very Good     I     VS1   62.8   56.0  4.83  4.88  3.05\n",
       "3          4   0.81    Premium     E     SI2   60.1   59.0  6.09  6.03  3.65\n",
       "4          5   0.40      Ideal     G    VVS1   61.2   56.0  4.74  4.80  2.92\n",
       "...      ...    ...        ...   ...     ...    ...    ...   ...   ...   ...\n",
       "10783  10784   0.57      Ideal     H     VS1   60.9   56.0  5.34  5.36  3.26\n",
       "10784  10785   1.05      Ideal     G     VS2   60.8   57.0  6.65  6.58  4.02\n",
       "10785  10786   0.71      Ideal     E    VVS1   62.3   55.0  5.68  5.72  3.55\n",
       "10786  10787   1.11    Premium     E     SI2   61.0   60.0  6.68  6.66  4.07\n",
       "10787  10788   2.00    Premium     F     SI2   61.5   59.0  8.03  7.95  4.92\n",
       "\n",
       "[10788 rows x 10 columns]"
      ]
     },
     "execution_count": 36,
     "metadata": {},
     "output_type": "execute_result"
    }
   ],
   "source": [
    "\n",
    "test=pd.read_csv('test_set.csv')\n",
    "test"
   ]
  },
  {
   "cell_type": "code",
   "execution_count": 38,
   "id": "3c1e7c0e",
   "metadata": {},
   "outputs": [
    {
     "data": {
      "text/html": [
       "<div>\n",
       "<style scoped>\n",
       "    .dataframe tbody tr th:only-of-type {\n",
       "        vertical-align: middle;\n",
       "    }\n",
       "\n",
       "    .dataframe tbody tr th {\n",
       "        vertical-align: top;\n",
       "    }\n",
       "\n",
       "    .dataframe thead th {\n",
       "        text-align: right;\n",
       "    }\n",
       "</style>\n",
       "<table border=\"1\" class=\"dataframe\">\n",
       "  <thead>\n",
       "    <tr style=\"text-align: right;\">\n",
       "      <th></th>\n",
       "      <th>Id</th>\n",
       "    </tr>\n",
       "  </thead>\n",
       "  <tbody>\n",
       "    <tr>\n",
       "      <th>0</th>\n",
       "      <td>1</td>\n",
       "    </tr>\n",
       "    <tr>\n",
       "      <th>1</th>\n",
       "      <td>2</td>\n",
       "    </tr>\n",
       "    <tr>\n",
       "      <th>2</th>\n",
       "      <td>3</td>\n",
       "    </tr>\n",
       "    <tr>\n",
       "      <th>3</th>\n",
       "      <td>4</td>\n",
       "    </tr>\n",
       "    <tr>\n",
       "      <th>4</th>\n",
       "      <td>5</td>\n",
       "    </tr>\n",
       "    <tr>\n",
       "      <th>...</th>\n",
       "      <td>...</td>\n",
       "    </tr>\n",
       "    <tr>\n",
       "      <th>10783</th>\n",
       "      <td>10784</td>\n",
       "    </tr>\n",
       "    <tr>\n",
       "      <th>10784</th>\n",
       "      <td>10785</td>\n",
       "    </tr>\n",
       "    <tr>\n",
       "      <th>10785</th>\n",
       "      <td>10786</td>\n",
       "    </tr>\n",
       "    <tr>\n",
       "      <th>10786</th>\n",
       "      <td>10787</td>\n",
       "    </tr>\n",
       "    <tr>\n",
       "      <th>10787</th>\n",
       "      <td>10788</td>\n",
       "    </tr>\n",
       "  </tbody>\n",
       "</table>\n",
       "<p>10788 rows × 1 columns</p>\n",
       "</div>"
      ],
      "text/plain": [
       "          Id\n",
       "0          1\n",
       "1          2\n",
       "2          3\n",
       "3          4\n",
       "4          5\n",
       "...      ...\n",
       "10783  10784\n",
       "10784  10785\n",
       "10785  10786\n",
       "10786  10787\n",
       "10787  10788\n",
       "\n",
       "[10788 rows x 1 columns]"
      ]
     },
     "execution_count": 38,
     "metadata": {},
     "output_type": "execute_result"
    }
   ],
   "source": [
    "submission=test[['Id']]\n",
    "submission"
   ]
  },
  {
   "cell_type": "code",
   "execution_count": 40,
   "id": "b4bc70c5",
   "metadata": {},
   "outputs": [
    {
     "name": "stderr",
     "output_type": "stream",
     "text": [
      "C:\\Users\\Elnour Tech\\AppData\\Local\\Temp\\ipykernel_6220\\2222970580.py:1: SettingWithCopyWarning: \n",
      "A value is trying to be set on a copy of a slice from a DataFrame.\n",
      "Try using .loc[row_indexer,col_indexer] = value instead\n",
      "\n",
      "See the caveats in the documentation: https://pandas.pydata.org/pandas-docs/stable/user_guide/indexing.html#returning-a-view-versus-a-copy\n",
      "  submission['price']=predications\n"
     ]
    }
   ],
   "source": [
    "submission['price']=predications"
   ]
  },
  {
   "cell_type": "code",
   "execution_count": 42,
   "id": "ae1451ab",
   "metadata": {},
   "outputs": [],
   "source": [
    "submission.to_csv('submission.csv',index=None)"
   ]
  },
  {
   "cell_type": "code",
   "execution_count": null,
   "id": "d9752ef9",
   "metadata": {},
   "outputs": [],
   "source": []
  }
 ],
 "metadata": {
  "kernelspec": {
   "display_name": "Python 3 (ipykernel)",
   "language": "python",
   "name": "python3"
  },
  "language_info": {
   "codemirror_mode": {
    "name": "ipython",
    "version": 3
   },
   "file_extension": ".py",
   "mimetype": "text/x-python",
   "name": "python",
   "nbconvert_exporter": "python",
   "pygments_lexer": "ipython3",
   "version": "3.9.13"
  }
 },
 "nbformat": 4,
 "nbformat_minor": 5
}
